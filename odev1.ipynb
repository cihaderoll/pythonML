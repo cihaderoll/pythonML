{
 "cells": [
  {
   "cell_type": "markdown",
   "metadata": {},
   "source": [
    "import re\n",
    "import collections"
   ]
  },
  {
   "cell_type": "code",
   "execution_count": 47,
   "metadata": {},
   "outputs": [
    {
     "name": "stdout",
     "output_type": "stream",
     "text": [
      "the average of length of sentences is:  14.23\n"
     ]
    },
    {
     "data": {
      "image/png": "[encoded data removed]",
      "text/plain": [
       "<Figure size 432x288 with 1 Axes>"
      ]
     },
     "metadata": {
      "needs_background": "light"
     },
     "output_type": "display_data"
    },
    {
     "data": {
      "text/plain": [
       "<matplotlib.axes._subplots.AxesSubplot at 0x7f78d4ea4048>"
      ]
     },
     "execution_count": 47,
     "metadata": {},
     "output_type": "execute_result"
    }
   ],
   "source": [
    "import re\n",
    "import collections\n",
    "from nltk.tokenize import sent_tokenize,word_tokenize\n",
    "from nltk.corpus import stopwords\n",
    "from collections import Counter\n",
    "import matplotlib.pyplot as plt\n",
    "import nltk\n",
    "\n",
    "def word_count_in_sentence(sentence_list):\n",
    "    Word_counts = []\n",
    "    for i in sentence_list:\n",
    "        Word_counts.append(len(i.split()))\n",
    "    return Word_counts\n",
    "\n",
    "f = open(\"book.txt\", \"r\")\n",
    "text = f.read()\n",
    "\n",
    "text = text.lower()\n",
    "sentence_tokens = sent_tokenize(text)\n",
    "\n",
    "len_sentences = word_count_in_sentence(sentence_tokens)\n",
    "avg = sum(len_sentences) / len(len_sentences)\n",
    "print(\"the average of length of sentences is: \", round(avg, 2))\n",
    "\n",
    "word_tokens = re.split(r'\\W+', text)\n",
    "\n",
    "wordCount = nltk.FreqDist(word_tokens)\n",
    "wordCount.plot(20, cumulative = False)\n"
   ]
  },
  {
   "cell_type": "code",
   "execution_count": 6,
   "metadata": {
    "scrolled": true
   },
   "outputs": [
    {
     "name": "stdout",
     "output_type": "stream",
     "text": [
      "461258\n"
     ]
    }
   ],
   "source": [
    "print(len(text))"
   ]
  },
  {
   "cell_type": "code",
   "execution_count": 32,
   "metadata": {},
   "outputs": [],
   "source": [
    "text = text.lower()\n",
    "tokens = text.split(\" \")"
   ]
  },
  {
   "cell_type": "code",
   "execution_count": 33,
   "metadata": {},
   "outputs": [
    {
     "name": "stdout",
     "output_type": "stream",
     "text": [
      "['the', 'project', 'gutenberg', 'ebook,', 'the']\n"
     ]
    }
   ],
   "source": [
    "print(tokens[: 5])"
   ]
  },
  {
   "cell_type": "code",
   "execution_count": 34,
   "metadata": {
    "scrolled": true
   },
   "outputs": [
    {
     "name": "stdout",
     "output_type": "stream",
     "text": [
      "['the', 'project', 'gutenberg', 'ebook,', 'the']\n"
     ]
    }
   ],
   "source": [
    "print(tokens[:5])"
   ]
  },
  {
   "cell_type": "code",
   "execution_count": 35,
   "metadata": {},
   "outputs": [],
   "source": [
    "count = Counter(tokens)"
   ]
  },
  {
   "cell_type": "code",
   "execution_count": 36,
   "metadata": {},
   "outputs": [
    {
     "data": {
      "text/plain": [
       "[('the', 3353),\n",
       " ('to', 1907),\n",
       " ('and', 1569),\n",
       " ('of', 1442),\n",
       " ('he', 1401),\n",
       " ('a', 1367),\n",
       " ('in', 1030),\n",
       " ('his', 1002),\n",
       " ('that', 890),\n",
       " ('you', 861),\n",
       " ('was', 779),\n",
       " ('', 767),\n",
       " ('i', 744),\n",
       " ('her', 642),\n",
       " ('she', 635),\n",
       " ('for', 571),\n",
       " ('it', 561),\n",
       " ('had', 555),\n",
       " ('with', 489),\n",
       " ('at', 441)]"
      ]
     },
     "execution_count": 36,
     "metadata": {},
     "output_type": "execute_result"
    }
   ],
   "source": [
    "count.most_common(20)"
   ]
  },
  {
   "cell_type": "code",
   "execution_count": 40,
   "metadata": {},
   "outputs": [],
   "source": [
    "stop_words = set(stopwords.words(\"english\"))\n",
    "proper_sentence = [w for w in tokens if not w in stop_words]"
   ]
  },
  {
   "cell_type": "code",
   "execution_count": 42,
   "metadata": {},
   "outputs": [
    {
     "data": {
      "text/plain": [
       "[('', 767),\n",
       " ('man', 197),\n",
       " ('said', 184),\n",
       " ('wilkinson', 180),\n",
       " ('one', 173),\n",
       " ('know', 163),\n",
       " ('would', 142),\n",
       " ('got', 139),\n",
       " ('upon', 136),\n",
       " ('went', 125),\n",
       " ('peter', 121),\n",
       " ('wilkinson,', 114),\n",
       " ('leslie', 110),\n",
       " ('get', 110),\n",
       " ('see', 109),\n",
       " ('going', 108),\n",
       " ('ilingsworth', 107),\n",
       " ('want', 107),\n",
       " ('back', 99),\n",
       " ('time', 99)]"
      ]
     },
     "execution_count": 42,
     "metadata": {},
     "output_type": "execute_result"
    }
   ],
   "source": [
    "count = Counter(proper_sentence)\n",
    "count.most_common(20)"
   ]
  },
  {
   "cell_type": "code",
   "execution_count": 45,
   "metadata": {},
   "outputs": [
    {
     "name": "stdout",
     "output_type": "stream",
     "text": [
      "72907\n"
     ]
    }
   ],
   "source": [
    "print(len(tokens))"
   ]
  },
  {
   "cell_type": "code",
   "execution_count": null,
   "metadata": {},
   "outputs": [],
   "source": []
  }
 ],
 "metadata": {
  "kernel_info": {
   "name": "python3-azureml"
  },
  "kernelspec": {
   "display_name": "Python 3.6 - AzureML",
   "language": "python",
   "name": "python3-azureml"
  },
  "language_info": {
   "codemirror_mode": {
    "name": "ipython",
    "version": 3
   },
   "file_extension": ".py",
   "mimetype": "text/x-python",
   "name": "python",
   "nbconvert_exporter": "python",
   "pygments_lexer": "ipython3",
   "version": "3.6.9"
  },
  "nteract": {
   "version": "nteract-front-end@1.0.0"
  }
 },
 "nbformat": 4,
 "nbformat_minor": 2
}
